{
 "cells": [
  {
   "cell_type": "code",
   "execution_count": 1,
   "id": "9aced634-8023-40b9-be37-fd040a3b17ab",
   "metadata": {},
   "outputs": [],
   "source": [
    "import pandas as pd "
   ]
  },
  {
   "cell_type": "code",
   "execution_count": 2,
   "id": "800b4c4c-124f-4efc-a3c1-c04af032196b",
   "metadata": {},
   "outputs": [],
   "source": [
    "nombre='Michelle'\n",
    "edad=30"
   ]
  },
  {
   "cell_type": "code",
   "execution_count": 3,
   "id": "60ebc3e5-9f34-4298-902c-e07c9fcf06ea",
   "metadata": {},
   "outputs": [
    {
     "data": {
      "text/plain": [
       "'Mi nombre es Michelle y tengo 30 años'"
      ]
     },
     "execution_count": 3,
     "metadata": {},
     "output_type": "execute_result"
    }
   ],
   "source": [
    "f'Mi nombre es {nombre} y tengo {edad} años'"
   ]
  },
  {
   "cell_type": "code",
   "execution_count": null,
   "id": "069f9302-16c1-4246-b7af-04f191656383",
   "metadata": {},
   "outputs": [],
   "source": []
  }
 ],
 "metadata": {
  "kernelspec": {
   "display_name": "Python 3 (ipykernel)",
   "language": "python",
   "name": "python3"
  },
  "language_info": {
   "codemirror_mode": {
    "name": "ipython",
    "version": 3
   },
   "file_extension": ".py",
   "mimetype": "text/x-python",
   "name": "python",
   "nbconvert_exporter": "python",
   "pygments_lexer": "ipython3",
   "version": "3.11.5"
  }
 },
 "nbformat": 4,
 "nbformat_minor": 5
}
